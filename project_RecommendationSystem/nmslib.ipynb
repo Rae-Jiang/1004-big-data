{
 "cells": [
  {
   "cell_type": "code",
   "execution_count": 189,
   "metadata": {},
   "outputs": [],
   "source": [
    "import pandas as pd\n",
    "import numpy \n",
    "import sys \n",
    "import nmslib \n",
    "import time \n",
    "import numpy as np"
   ]
  },
  {
   "cell_type": "code",
   "execution_count": 5,
   "metadata": {},
   "outputs": [
    {
     "name": "stdout",
     "output_type": "stream",
     "text": [
      "Collecting pyarrow\n",
      "\u001b[?25l  Downloading https://files.pythonhosted.org/packages/00/26/ecc5174b36278f54b35d51fd7e4e5b35b1192546ba03b670190a85b41133/pyarrow-0.13.0-cp36-cp36m-macosx_10_6_intel.whl (29.1MB)\n",
      "\u001b[K     |████████████████████████████████| 29.2MB 2.1MB/s eta 0:00:011\n",
      "\u001b[?25hRequirement already satisfied, skipping upgrade: numpy>=1.14 in /anaconda3/lib/python3.6/site-packages (from pyarrow) (1.15.4)\n",
      "Requirement already satisfied, skipping upgrade: six>=1.0.0 in /anaconda3/lib/python3.6/site-packages (from pyarrow) (1.11.0)\n",
      "Installing collected packages: pyarrow\n",
      "Successfully installed pyarrow-0.13.0\n",
      "\u001b[33mWARNING: You are using pip version 19.1, however version 19.1.1 is available.\n",
      "You should consider upgrading via the 'pip install --upgrade pip' command.\u001b[0m\n"
     ]
    }
   ],
   "source": [
    "!pip install -U pyarrow"
   ]
  },
  {
   "cell_type": "code",
   "execution_count": 190,
   "metadata": {},
   "outputs": [],
   "source": [
    "# load  userFactors\n",
    "user1 = pd.read_parquet(\"userFactors/part-00000-3debbcdc-7517-4f27-8de2-90709fac540b-c000.snappy.parquet\",engine='pyarrow')\n",
    "user2 = pd.read_parquet('userFactors/part-00001-3debbcdc-7517-4f27-8de2-90709fac540b-c000.snappy.parquet',engine='pyarrow')\n",
    "user3 = pd.read_parquet('userFactors/part-00002-3debbcdc-7517-4f27-8de2-90709fac540b-c000.snappy.parquet',engine='pyarrow')\n",
    "user4 = pd.read_parquet('userFactors/part-00003-3debbcdc-7517-4f27-8de2-90709fac540b-c000.snappy.parquet',engine='pyarrow')\n",
    "user5 = pd.read_parquet('userFactors/part-00004-3debbcdc-7517-4f27-8de2-90709fac540b-c000.snappy.parquet',engine='pyarrow')\n",
    "user6 = pd.read_parquet('userFactors/part-00005-3debbcdc-7517-4f27-8de2-90709fac540b-c000.snappy.parquet',engine='pyarrow')\n",
    "user7 = pd.read_parquet('userFactors/part-00006-3debbcdc-7517-4f27-8de2-90709fac540b-c000.snappy.parquet',engine='pyarrow')\n",
    "user8 = pd.read_parquet('userFactors/part-00007-3debbcdc-7517-4f27-8de2-90709fac540b-c000.snappy.parquet',engine='pyarrow')\n",
    "user9 = pd.read_parquet('userFactors/part-00008-3debbcdc-7517-4f27-8de2-90709fac540b-c000.snappy.parquet',engine='pyarrow')\n",
    "user10 = pd.read_parquet('userFactors/part-00009-3debbcdc-7517-4f27-8de2-90709fac540b-c000.snappy.parquet',engine='pyarrow')"
   ]
  },
  {
   "cell_type": "code",
   "execution_count": 191,
   "metadata": {},
   "outputs": [
    {
     "data": {
      "text/html": [
       "<div>\n",
       "<style scoped>\n",
       "    .dataframe tbody tr th:only-of-type {\n",
       "        vertical-align: middle;\n",
       "    }\n",
       "\n",
       "    .dataframe tbody tr th {\n",
       "        vertical-align: top;\n",
       "    }\n",
       "\n",
       "    .dataframe thead th {\n",
       "        text-align: right;\n",
       "    }\n",
       "</style>\n",
       "<table border=\"1\" class=\"dataframe\">\n",
       "  <thead>\n",
       "    <tr style=\"text-align: right;\">\n",
       "      <th></th>\n",
       "      <th>id</th>\n",
       "      <th>features</th>\n",
       "    </tr>\n",
       "  </thead>\n",
       "  <tbody>\n",
       "    <tr>\n",
       "      <th>0</th>\n",
       "      <td>0</td>\n",
       "      <td>[0.0014444863, 0.008087372, 0.00830631, -0.004...</td>\n",
       "    </tr>\n",
       "    <tr>\n",
       "      <th>1</th>\n",
       "      <td>10</td>\n",
       "      <td>[3.4017863, 0.9976335, 1.5587792, -1.5164244, ...</td>\n",
       "    </tr>\n",
       "    <tr>\n",
       "      <th>2</th>\n",
       "      <td>20</td>\n",
       "      <td>[0.15045026, 0.07838725, 0.105005324, -0.25015...</td>\n",
       "    </tr>\n",
       "    <tr>\n",
       "      <th>3</th>\n",
       "      <td>30</td>\n",
       "      <td>[1.7004522, 0.1540619, 0.4750695, -1.3746185, ...</td>\n",
       "    </tr>\n",
       "    <tr>\n",
       "      <th>4</th>\n",
       "      <td>40</td>\n",
       "      <td>[0.39282304, 0.018166667, 0.3246519, -1.225637...</td>\n",
       "    </tr>\n",
       "  </tbody>\n",
       "</table>\n",
       "</div>"
      ],
      "text/plain": [
       "   id                                           features\n",
       "0   0  [0.0014444863, 0.008087372, 0.00830631, -0.004...\n",
       "1  10  [3.4017863, 0.9976335, 1.5587792, -1.5164244, ...\n",
       "2  20  [0.15045026, 0.07838725, 0.105005324, -0.25015...\n",
       "3  30  [1.7004522, 0.1540619, 0.4750695, -1.3746185, ...\n",
       "4  40  [0.39282304, 0.018166667, 0.3246519, -1.225637..."
      ]
     },
     "execution_count": 191,
     "metadata": {},
     "output_type": "execute_result"
    }
   ],
   "source": [
    "users = pd.concat([user1,user2,user3,user4,user5,user6,user7,user8,user9,user10],ignore_index=True)\n",
    "users.head()"
   ]
  },
  {
   "cell_type": "code",
   "execution_count": 192,
   "metadata": {},
   "outputs": [
    {
     "data": {
      "text/plain": [
       "(526137, 2)"
      ]
     },
     "execution_count": 192,
     "metadata": {},
     "output_type": "execute_result"
    }
   ],
   "source": [
    "users.shape"
   ]
  },
  {
   "cell_type": "code",
   "execution_count": 197,
   "metadata": {},
   "outputs": [
    {
     "data": {
      "text/plain": [
       "(10,)"
      ]
     },
     "execution_count": 197,
     "metadata": {},
     "output_type": "execute_result"
    }
   ],
   "source": [
    "users.features[0].shape"
   ]
  },
  {
   "cell_type": "code",
   "execution_count": null,
   "metadata": {},
   "outputs": [],
   "source": []
  },
  {
   "cell_type": "code",
   "execution_count": 198,
   "metadata": {},
   "outputs": [],
   "source": [
    "# load itemFactors\n",
    "item1 = pd.read_parquet(\"itemFactors/part-00000-67122015-d259-44a8-8f01-bc9c0224b270-c000.snappy.parquet\",engine='pyarrow')\n",
    "item2 = pd.read_parquet('itemFactors/part-00001-67122015-d259-44a8-8f01-bc9c0224b270-c000.snappy.parquet',engine='pyarrow')\n",
    "item3 = pd.read_parquet('itemFactors/part-00002-67122015-d259-44a8-8f01-bc9c0224b270-c000.snappy.parquet',engine='pyarrow')\n",
    "item4 = pd.read_parquet('itemFactors/part-00003-67122015-d259-44a8-8f01-bc9c0224b270-c000.snappy.parquet',engine='pyarrow')\n",
    "item5 = pd.read_parquet('itemFactors/part-00004-67122015-d259-44a8-8f01-bc9c0224b270-c000.snappy.parquet',engine='pyarrow')\n",
    "item6 = pd.read_parquet('itemFactors/part-00005-67122015-d259-44a8-8f01-bc9c0224b270-c000.snappy.parquet',engine='pyarrow')\n",
    "item7 = pd.read_parquet('itemFactors/part-00006-67122015-d259-44a8-8f01-bc9c0224b270-c000.snappy.parquet',engine='pyarrow')\n",
    "item8 = pd.read_parquet('itemFactors/part-00007-67122015-d259-44a8-8f01-bc9c0224b270-c000.snappy.parquet',engine='pyarrow')\n",
    "item9 = pd.read_parquet('itemFactors/part-00008-67122015-d259-44a8-8f01-bc9c0224b270-c000.snappy.parquet',engine='pyarrow')\n",
    "item10 = pd.read_parquet('itemFactors/part-00009-67122015-d259-44a8-8f01-bc9c0224b270-c000.snappy.parquet',engine='pyarrow')"
   ]
  },
  {
   "cell_type": "code",
   "execution_count": 199,
   "metadata": {},
   "outputs": [
    {
     "data": {
      "text/html": [
       "<div>\n",
       "<style scoped>\n",
       "    .dataframe tbody tr th:only-of-type {\n",
       "        vertical-align: middle;\n",
       "    }\n",
       "\n",
       "    .dataframe tbody tr th {\n",
       "        vertical-align: top;\n",
       "    }\n",
       "\n",
       "    .dataframe thead th {\n",
       "        text-align: right;\n",
       "    }\n",
       "</style>\n",
       "<table border=\"1\" class=\"dataframe\">\n",
       "  <thead>\n",
       "    <tr style=\"text-align: right;\">\n",
       "      <th></th>\n",
       "      <th>id</th>\n",
       "      <th>features</th>\n",
       "    </tr>\n",
       "  </thead>\n",
       "  <tbody>\n",
       "    <tr>\n",
       "      <th>0</th>\n",
       "      <td>0</td>\n",
       "      <td>[0.03876327, 0.10941172, 0.0064438437, -0.0896...</td>\n",
       "    </tr>\n",
       "    <tr>\n",
       "      <th>1</th>\n",
       "      <td>10</td>\n",
       "      <td>[-0.033253636, -0.022365738, -0.013063856, -0....</td>\n",
       "    </tr>\n",
       "    <tr>\n",
       "      <th>2</th>\n",
       "      <td>20</td>\n",
       "      <td>[0.12585682, -0.0031638069, 0.07332305, -0.002...</td>\n",
       "    </tr>\n",
       "    <tr>\n",
       "      <th>3</th>\n",
       "      <td>30</td>\n",
       "      <td>[0.058448564, 0.02108172, 0.02516022, -0.04953...</td>\n",
       "    </tr>\n",
       "    <tr>\n",
       "      <th>4</th>\n",
       "      <td>40</td>\n",
       "      <td>[0.02590116, -0.005541374, 0.0052622654, -0.00...</td>\n",
       "    </tr>\n",
       "  </tbody>\n",
       "</table>\n",
       "</div>"
      ],
      "text/plain": [
       "   id                                           features\n",
       "0   0  [0.03876327, 0.10941172, 0.0064438437, -0.0896...\n",
       "1  10  [-0.033253636, -0.022365738, -0.013063856, -0....\n",
       "2  20  [0.12585682, -0.0031638069, 0.07332305, -0.002...\n",
       "3  30  [0.058448564, 0.02108172, 0.02516022, -0.04953...\n",
       "4  40  [0.02590116, -0.005541374, 0.0052622654, -0.00..."
      ]
     },
     "execution_count": 199,
     "metadata": {},
     "output_type": "execute_result"
    }
   ],
   "source": [
    "items = pd.concat([item1,item2,item3,item4,item5,item6,item7,item8,item9,item10],ignore_index=True)\n",
    "items.head()"
   ]
  },
  {
   "cell_type": "code",
   "execution_count": 200,
   "metadata": {},
   "outputs": [
    {
     "data": {
      "text/plain": [
       "(152005, 2)"
      ]
     },
     "execution_count": 200,
     "metadata": {},
     "output_type": "execute_result"
    }
   ],
   "source": [
    "items.shape"
   ]
  },
  {
   "cell_type": "code",
   "execution_count": 201,
   "metadata": {},
   "outputs": [
    {
     "data": {
      "text/plain": [
       "(10,)"
      ]
     },
     "execution_count": 201,
     "metadata": {},
     "output_type": "execute_result"
    }
   ],
   "source": [
    "items.features[0].shape"
   ]
  },
  {
   "cell_type": "code",
   "execution_count": 202,
   "metadata": {},
   "outputs": [],
   "source": [
    "userfactors = np.array(users.features.tolist()).reshape(526137,10)\n",
    "itemfactors = np.array(items.features.tolist()).reshape(152005,10)"
   ]
  },
  {
   "cell_type": "code",
   "execution_count": 203,
   "metadata": {},
   "outputs": [
    {
     "data": {
      "text/plain": [
       "array([ 0.00236463,  0.00218299,  0.00217143, ..., -0.00049464,\n",
       "       -0.00049724, -0.00051629], dtype=float32)"
      ]
     },
     "execution_count": 203,
     "metadata": {},
     "output_type": "execute_result"
    }
   ],
   "source": [
    "np.sort(userfactors[0].dot(itemfactors.transpose()))[::-1]"
   ]
  },
  {
   "cell_type": "code",
   "execution_count": 204,
   "metadata": {},
   "outputs": [
    {
     "name": "stdout",
     "output_type": "stream",
     "text": [
      "brute-force query time = 5826.075924\n"
     ]
    }
   ],
   "source": [
    "start = time.time()\n",
    "for i in range(userfactors.shape[0]):\n",
    "    user_i = userfactors[i]\n",
    "    score = np.sort(user_i.dot(itemfactors.transpose()))[::-1]\n",
    "end = time.time()\n",
    "print('brute-force query time = %f' % (end-start))"
   ]
  },
  {
   "cell_type": "markdown",
   "metadata": {},
   "source": [
    "nmslib"
   ]
  },
  {
   "cell_type": "code",
   "execution_count": 223,
   "metadata": {},
   "outputs": [],
   "source": [
    "# Set index parameters\n",
    "M = 20\n",
    "efC = 300\n",
    "K =500\n",
    "num_threads = 4\n",
    "index_time_params = {'M': M, 'indexThreadQty': num_threads, 'efConstruction': efC, 'post' : 0}"
   ]
  },
  {
   "cell_type": "code",
   "execution_count": 224,
   "metadata": {},
   "outputs": [
    {
     "data": {
      "text/plain": [
       "152005"
      ]
     },
     "execution_count": 224,
     "metadata": {},
     "output_type": "execute_result"
    }
   ],
   "source": [
    "# Intitialize the library, specify the space, the type of the vector and add data points \n",
    "index = nmslib.init(method='hnsw', space='cosinesimil') \n",
    "index.addDataPointBatch(itemfactors)"
   ]
  },
  {
   "cell_type": "code",
   "execution_count": 225,
   "metadata": {},
   "outputs": [
    {
     "name": "stdout",
     "output_type": "stream",
     "text": [
      "Index-time parameters {'M': 20, 'indexThreadQty': 4, 'efConstruction': 300, 'post': 0}\n",
      "Indexing time = 64.634902\n"
     ]
    }
   ],
   "source": [
    "# Create an index\n",
    "start = time.time()\n",
    "index.createIndex(index_time_params) \n",
    "end = time.time() \n",
    "print('Index-time parameters', index_time_params)\n",
    "print('Indexing time = %f' % (end-start))"
   ]
  },
  {
   "cell_type": "code",
   "execution_count": 226,
   "metadata": {},
   "outputs": [
    {
     "name": "stdout",
     "output_type": "stream",
     "text": [
      "Setting query-time parameters {'efSearch': 100}\n"
     ]
    }
   ],
   "source": [
    "# Setting query-time parameters\n",
    "efS = 100\n",
    "query_time_params = {'efSearch': efS}\n",
    "print('Setting query-time parameters', query_time_params)\n",
    "index.setQueryTimeParams(query_time_params)"
   ]
  },
  {
   "cell_type": "code",
   "execution_count": 227,
   "metadata": {},
   "outputs": [
    {
     "name": "stdout",
     "output_type": "stream",
     "text": [
      "kNN time total=69.510176 (sec), per query=0.000132 (sec), per query adjusted for thread number=0.000528 (sec)\n"
     ]
    }
   ],
   "source": [
    "# Querying\n",
    "query_qty = userfactors.shape[0]\n",
    "start = time.time() \n",
    "nbrs = index.knnQueryBatch(userfactors, k = K, num_threads = num_threads)\n",
    "end = time.time() \n",
    "print('kNN time total=%f (sec), per query=%f (sec), per query adjusted for thread number=%f (sec)' % \n",
    "      (end-start, float(end-start)/query_qty, num_threads*float(end-start)/query_qty))"
   ]
  },
  {
   "cell_type": "code",
   "execution_count": 229,
   "metadata": {},
   "outputs": [
    {
     "name": "stdout",
     "output_type": "stream",
     "text": [
      "Computing gold-standard data\n",
      "Brute-force preparation time 0.001072\n",
      "brute-force kNN time total=0.001072 (sec), per query=0.000000 (sec)\n"
     ]
    }
   ],
   "source": [
    "# Computing gold-standard data \n",
    "print('Computing gold-standard data')\n",
    "\n",
    "start = time.time()\n",
    "sindx = NearestNeighbors(n_neighbors=K, metric='cosine', algorithm='brute').fit(itemfactors)\n",
    "end = time.time()\n",
    "\n",
    "print('Brute-force preparation time %f' % (end - start))\n",
    "\n",
    "start = time.time() \n",
    "gs = sindx.kneighbors(userfactors)\n",
    "end = time.time()\n",
    "\n",
    "print('brute-force kNN time total=%f (sec), per query=%f (sec)' % \n",
    "      (end-start, float(end-start)/query_qty) )"
   ]
  },
  {
   "cell_type": "code",
   "execution_count": null,
   "metadata": {},
   "outputs": [],
   "source": [
    "# Finally computing recall\n",
    "recall=0.0\n",
    "for i in range(0, query_qty):\n",
    "    correct_set = set(gs[1][i])\n",
    "    ret_set = set(nbrs[i][0])\n",
    "    recall = recall + float(len(correct_set.intersection(ret_set))) / len(correct_set)\n",
    "recall = recall / query_qty\n",
    "print('kNN recall %f' % recall)"
   ]
  },
  {
   "cell_type": "code",
   "execution_count": null,
   "metadata": {},
   "outputs": [],
   "source": []
  },
  {
   "cell_type": "code",
   "execution_count": null,
   "metadata": {},
   "outputs": [],
   "source": []
  }
 ],
 "metadata": {
  "kernelspec": {
   "display_name": "Python 3",
   "language": "python",
   "name": "python3"
  },
  "language_info": {
   "codemirror_mode": {
    "name": "ipython",
    "version": 3
   },
   "file_extension": ".py",
   "mimetype": "text/x-python",
   "name": "python",
   "nbconvert_exporter": "python",
   "pygments_lexer": "ipython3",
   "version": "3.6.8"
  }
 },
 "nbformat": 4,
 "nbformat_minor": 2
}
