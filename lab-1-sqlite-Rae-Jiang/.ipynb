{
 "cells": [
  {
   "cell_type": "markdown",
   "metadata": {},
   "source": [
    "## lab"
   ]
  },
  {
   "cell_type": "code",
   "execution_count": 3,
   "metadata": {},
   "outputs": [],
   "source": [
    "import sqlite3\n",
    "conn = sqlite3.connect('/Users/jr/Desktop/1004_Big_Data/lab/lab-1-sqlite-Rae-Jiang/Sample_Song_Dataset.db')\n",
    "c = conn.cursor()"
   ]
  },
  {
   "cell_type": "code",
   "execution_count": 4,
   "metadata": {},
   "outputs": [
    {
     "name": "stdout",
     "output_type": "stream",
     "text": [
      "(13496,)\n"
     ]
    }
   ],
   "source": [
    "t = (1998,)\n",
    "c.execute('SELECT count(*) FROM tracks WHERE year=?',t)\n",
    "print(c.fetchone())"
   ]
  },
  {
   "cell_type": "code",
   "execution_count": 5,
   "metadata": {},
   "outputs": [
    {
     "name": "stdout",
     "output_type": "stream",
     "text": [
      "('TRMMMKI128F931D80D', 262.26893)\n"
     ]
    }
   ],
   "source": [
    "c.execute('SELECT track_id, duration FROM tracks GROUP BY year HAVING year = ?',t)\n",
    "print(c.fetchone())"
   ]
  },
  {
   "cell_type": "code",
   "execution_count": 6,
   "metadata": {},
   "outputs": [
    {
     "name": "stdout",
     "output_type": "stream",
     "text": [
      "('TRMMMYQ128F932D901', 'Faster Pussy cat')\n",
      "('TRMMMYQ128F932D901', 'Faster Pussycat')\n",
      "('TRMMMKD128F425225D', 'Karkkiautomaatti')\n",
      "('TRMMMRX128F93187D9', 'Hudson Mohawke')\n",
      "('TRMMMRX128F93187D9', 'Hudson Mohawke ft. Wednesday Nite')\n",
      "('TRMMMCH128F425532C', 'Yerba Brava')\n",
      "('TRMMMWA128F426B589', 'Der Mystic')\n",
      "('TRMMMLR128F1494097', 'Adam Johnson')\n",
      "('TRMMMLR128F1494097', 'Charlie May vs Sasha')\n",
      "('TRMMMLR128F1494097', 'Closer Musik')\n"
     ]
    }
   ],
   "source": [
    "c.execute('SELECT t.track_id, a.artist_name FROM tracks t INNER JOIN artists a ON t.artist_id=a.artist_id LIMIT 10')\n",
    "for r in c:\n",
    "    print(r)"
   ]
  },
  {
   "cell_type": "code",
   "execution_count": null,
   "metadata": {},
   "outputs": [],
   "source": []
  },
  {
   "cell_type": "code",
   "execution_count": 1,
   "metadata": {},
   "outputs": [
    {
     "name": "stdout",
     "output_type": "stream",
     "text": [
      "Tracks from 1998: 13496\n"
     ]
    }
   ],
   "source": [
    "import Lab1StarterCode"
   ]
  }
 ],
 "metadata": {
  "kernelspec": {
   "display_name": "Python 3",
   "language": "python",
   "name": "python3"
  },
  "language_info": {
   "codemirror_mode": {
    "name": "ipython",
    "version": 3
   },
   "file_extension": ".py",
   "mimetype": "text/x-python",
   "name": "python",
   "nbconvert_exporter": "python",
   "pygments_lexer": "ipython3",
   "version": "3.7.1"
  }
 },
 "nbformat": 4,
 "nbformat_minor": 2
}
